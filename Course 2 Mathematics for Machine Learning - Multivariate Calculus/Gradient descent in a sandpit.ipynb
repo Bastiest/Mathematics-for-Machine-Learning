{
 "cells": [
  {
   "cell_type": "markdown",
   "id": "e4ce0bc5",
   "metadata": {},
   "source": [
    "# Gradient descent in a sandpit\n",
    "\n",
    "The supervisor of this building site doesn't have the time or patience to go digging in the sandpit herself.\n",
    "She assigns this task to one of her workers, however they only follow very specific instructions.\n",
    "The instructions take the form of a location to start searching from, and where to go subsequently if the phone is not found. The workers will try 5 further attempts after each click.\n",
    "\n",
    "In this exercise you will look at such instructions, and see how good they are as a strategy for finding the supervisor's phone.\n",
    "\n",
    "There is no grading for this exercise, when you are finished, close this tab to return to the course.\n",
    "\n",
    "## Simple example\n",
    "One idea for a set of instructions is, if you don't find the phone go one metre to the right and try again.\n",
    "See how well (or badly) this works as a strategy.\n",
    "\n",
    "Re-run the examples multiple times to make sure you didn't just get lucky!"
   ]
  },
  {
   "cell_type": "code",
   "execution_count": null,
   "id": "4a6d5dbb",
   "metadata": {
    "collapsed": true
   },
   "outputs": [],
   "source": [
    "def next_step(f, J, H) :\n",
    "    return np.array([1, 0])\n",
    "\n",
    "# Click into this cell and press [Shift-Enter] to start.\n",
    "%run \"readonly/sandpit-exercises.ipynb\"\n",
    "sandpit_gradient(next_step)"
   ]
  },
  {
   "cell_type": "markdown",
   "id": "5d059348",
   "metadata": {},
   "source": [
    "## Steepest Descent\n",
    "\n",
    "The previous strategy doens't use any of the information we have available, namely the depth of the pit, the Jacobian, or the Hessian.\n",
    "\n",
    "We can do better by moving in a direction proportional to the Jacobian, down the slope.\n",
    "We can set an *aggression* parameter, $\\gamma$ for how big the jumps should be.\n",
    "i.e. $\\delta \\mathbf{x} = -\\gamma \\mathbf{J} $\n",
    "\n",
    "Feel free to try different values for $\\gamma$."
   ]
  },
  {
   "cell_type": "code",
   "execution_count": null,
   "id": "a77281ba",
   "metadata": {
    "collapsed": true
   },
   "outputs": [],
   "source": [
    "def next_step(f, J, H) :\n",
    "    gamma = 0.5\n",
    "    return -gamma * J\n",
    "\n",
    "# Click into this cell and press [Shift-Enter] to start.\n",
    "%run \"readonly/sandpit-exercises.ipynb\"\n",
    "sandpit_gradient(next_step)"
   ]
  },
  {
   "cell_type": "markdown",
   "id": "edeb77b4",
   "metadata": {},
   "source": [
    "## Hessian\n",
    "\n",
    "The trouble with the previous method is it is not always clear how big to set $\\gamma$ to be.\n",
    "Too big, and the jumps are too big, missing all the features.\n",
    "Too small, and it will take too long to coverge.\n",
    "\n",
    "A way of automatically determining the jump size, is to use the Hessian, i.e., the second derivative matrix.\n",
    "\n",
    "Then, the step size can be given as,\n",
    "$\\delta \\mathbf{x} = -\\mathbf{H}^{-1}\\mathbf{J}$\n",
    "\n",
    "This not only sets the step size, but can also change the direction too.\n",
    "Be careful, this method is just as likely to find maxima as it is mimima."
   ]
  },
  {
   "cell_type": "code",
   "execution_count": null,
   "id": "de7e7758",
   "metadata": {
    "collapsed": true
   },
   "outputs": [],
   "source": [
    "def next_step(f, J, H) :\n",
    "    return -linalg.inv(H) @ J\n",
    "\n",
    "# Click into this cell and press [Shift-Enter] to start.\n",
    "%run \"readonly/sandpit-exercises.ipynb\"\n",
    "sandpit_gradient(next_step)"
   ]
  },
  {
   "cell_type": "markdown",
   "id": "cc201c04",
   "metadata": {},
   "source": [
    "## Hybrid method\n",
    "\n",
    "You may have noticed, that if you are sufficiently close to a stationaty point already, the Hessian method will find it in relatively few steps.\n",
    "Though in most cases, the step size is too large, and can even change the direction up hill.\n",
    "\n",
    "We can try a hybrid method which tries the Hessian unless the step would be too big, or it would point backwards, in which case it goes back to using steepest descent.\n",
    "\n",
    "See if you think this is any better."
   ]
  },
  {
   "cell_type": "code",
   "execution_count": null,
   "id": "efc59e5c",
   "metadata": {
    "collapsed": true
   },
   "outputs": [],
   "source": [
    "def next_step(f, J, H) :\n",
    "    gamma = 0.5\n",
    "    step = -linalg.inv(H) @ J\n",
    "    if step @ -J <= 0 or linalg.norm(step) > 2 :\n",
    "        step = -gamma * J\n",
    "    return step\n",
    "\n",
    "# Click into this cell and press [Shift-Enter] to start.\n",
    "%run \"readonly/sandpit-exercises.ipynb\"\n",
    "sandpit_gradient(next_step)"
   ]
  },
  {
   "cell_type": "markdown",
   "id": "4c36e25c",
   "metadata": {},
   "source": [
    "## Try your own\n",
    "\n",
    "Feel free to modify the methods to see if you can find a better strategy to reliably find the phone.\n",
    "Share your results in the forums with the discussion prompt."
   ]
  },
  {
   "cell_type": "code",
   "execution_count": null,
   "id": "2e5ae70d",
   "metadata": {},
   "outputs": [],
   "source": []
  }
 ],
 "metadata": {
  "kernelspec": {
   "display_name": "Python 3",
   "language": "python",
   "name": "python3"
  },
  "language_info": {
   "codemirror_mode": {
    "name": "ipython",
    "version": 3
   },
   "file_extension": ".py",
   "mimetype": "text/x-python",
   "name": "python",
   "nbconvert_exporter": "python",
   "pygments_lexer": "ipython3",
   "version": "3.8.8"
  }
 },
 "nbformat": 4,
 "nbformat_minor": 5
}
